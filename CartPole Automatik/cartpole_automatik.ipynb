{
 "cells": [
  {
   "cell_type": "markdown",
   "metadata": {
    "colab_type": "text",
    "id": "qG-LDE_yn_ca"
   },
   "source": [
    "## **DQN**"
   ]
  },
  {
   "cell_type": "code",
   "execution_count": 1,
   "metadata": {
    "colab": {},
    "colab_type": "code",
    "id": "kCtlfHC1yV1l"
   },
   "outputs": [
    {
     "name": "stderr",
     "output_type": "stream",
     "text": [
      "/home/umbrella/anaconda3/lib/python3.6/site-packages/h5py/__init__.py:36: FutureWarning: Conversion of the second argument of issubdtype from `float` to `np.floating` is deprecated. In future, it will be treated as `np.float64 == np.dtype(float).type`.\n",
      "  from ._conv import register_converters as _register_converters\n",
      "Using TensorFlow backend.\n"
     ]
    }
   ],
   "source": [
    "from collections import deque\n",
    "from keras.layers import Dense, Conv1D, Reshape, Flatten\n",
    "from keras.models import Sequential\n",
    "import numpy as np\n",
    "import random\n",
    "from keras.optimizers import Adam\n",
    "\n",
    "class DQNAgent:\n",
    "    def __init__(self, env):\n",
    "        self.env = env\n",
    "        self.state_size = self.env.observation_space.shape[0]\n",
    "        self.action_size = self.env.action_space.n\n",
    "        self.gamma = 0.95\n",
    "        self.epsilon = 1.0\n",
    "        self.epsilon_decay = 0.995\n",
    "        self.epsilon_min = 0.01\n",
    "        self.memory = deque(maxlen=3000)\n",
    "        self.learning_rate = 0.001\n",
    "        \n",
    "        self.model = self._build_model_convolution()\n",
    "        \n",
    "        # If you want to work with prebuilt model comment the above line and\n",
    "        # uncomment below\n",
    "        # from keras.models import load_model\n",
    "        # self.model = load_model('./cp.h5')\n",
    "        # self.epsilon = self.epsilon_min\n",
    "        \n",
    "    def _build_model_convolution(self):\n",
    "        model = Sequential()\n",
    "        print(self.state_size)\n",
    "        \n",
    "        model.add(Reshape((self.state_size, 1)))\n",
    "        model.add(Conv1D(64, 3, activation='relu'))\n",
    "        model.add(Flatten())\n",
    "        model.add(Dense(32, activation='relu'))\n",
    "        model.add(Dense(self.action_size, activation='linear'))\n",
    "        \n",
    "        model.compile(loss='mse', optimizer=Adam(lr=self.learning_rate))\n",
    "        \n",
    "        return model\n",
    "      \n",
    "      \n",
    "#    ###========================================================================####\n",
    "#        If you want to build dense model\n",
    "#    ###========================================================================####\n",
    "\n",
    "#     def _build_model_dense(self):\n",
    "#       model = Sequential()\n",
    "#       model.add(Dense(64, activation='relu'))\n",
    "#       model.add(Dense(32, activation='relu'))\n",
    "#       model.add(Dense(self.action_size, activation='linear'))\n",
    "#       model.compile(loss='mse', optimizer=Adam(lr=self.learning_rate))\n",
    "#       return model\n",
    "    \n",
    "#    ###========================================================================####\n",
    "    \n",
    "        \n",
    "    def remember(self, state, action, reward, next_state, done):\n",
    "        self.memory.append([state, action, reward, next_state, done])\n",
    "        \n",
    "    def act(self, state):\n",
    "        if self.epsilon >= np.random.rand():\n",
    "            return random.randrange(self.action_size)\n",
    "        \n",
    "        return np.argmax(self.model.predict(state)[0])\n",
    "    \n",
    "    def replay(self, batch_size):\n",
    "        minibatch = random.sample(self.memory, batch_size)\n",
    "        \n",
    "        for state, action, reward, next_state, done in minibatch:\n",
    "            target = self.model.predict(state)\n",
    "            if done:\n",
    "              target[0][action] = reward\n",
    "              \n",
    "            else:\n",
    "              Q_future = np.amax(self.model.predict(next_state)[0])\n",
    "              target[0][action] = reward + self.gamma * Q_future\n",
    "              \n",
    "            self.model.fit(state, target, epochs=1, verbose=0)\n",
    "            \n",
    "        if self.epsilon_min < self.epsilon:\n",
    "            self.epsilon *= self.epsilon_decay\n",
    "            \n",
    "    \n",
    "  \n",
    "#    ###======================================================================###\n",
    "#        If you want to train with all the data you have collection\n",
    "#        Warining: This might be considerably slow training, so better to train \n",
    "#                  from with each episode (remember while calling the function)\n",
    "#    ###======================================================================###\n",
    "\n",
    "#     def replay_with_all(self):\n",
    "#         np.random.shuffle(self.memory)\n",
    "#         for state, action, reward, next_state, done in self.memory:\n",
    "#             target = self.model.predict(state)\n",
    "#             if done:\n",
    "#               target[0][action] = reward\n",
    "#             else:\n",
    "#               Q_future = np.amax(self.model.predict(next_state)[0])\n",
    "#               target[0][action] = reward + self.gamma * Q_future\n",
    "#             self.model.fit(state, target, epochs=1, verbose=0, batch_size=64)\n",
    "#         if self.epsilon_min < self.epsilon:\n",
    "#             self.epsilon *= self.epsilon_decay\n",
    "\n",
    "#     ###===============================================================###    \n",
    "\n",
    "    def save_model(fn):\n",
    "       self.model.save(fn)"
   ]
  },
  {
   "cell_type": "markdown",
   "metadata": {
    "colab_type": "text",
    "id": "MGM73FOdoNGq"
   },
   "source": [
    "# Training **Agent** "
   ]
  },
  {
   "cell_type": "code",
   "execution_count": 2,
   "metadata": {
    "colab": {},
    "colab_type": "code",
    "id": "IGkChZUoyV11"
   },
   "outputs": [],
   "source": [
    "import gym\n",
    "\n",
    "def main():\n",
    "    no_episodes = 2000\n",
    "    batch_size = 32\n",
    "    \n",
    "    env = gym.make('CartPole-v0')\n",
    "\n",
    "    state_size = env.observation_space.shape[0]\n",
    "    action_size = env.action_space.n\n",
    "    \n",
    "    agent = DQNAgent(env)\n",
    "    for e in range(no_episodes):\n",
    "        state = env.reset()\n",
    "        state = np.reshape(state, [1, state_size])\n",
    "        \n",
    "        for t in range(500):\n",
    "            # If you want to render\n",
    "            env.render()\n",
    "            \n",
    "            action = agent.act(state)\n",
    "            \n",
    "            next_state, reward, done, _ = env.step(action)\n",
    "            next_state = np.reshape(next_state, [1, state_size])\n",
    "            reward = reward if not done else -10\n",
    "            \n",
    "            agent.remember(state, action, reward, next_state, done)\n",
    "            \n",
    "            state = next_state\n",
    "            \n",
    "            if done:\n",
    "                print(f'Episode: {e}   Score: {t}   Epsilon: {agent.epsilon}')\n",
    "                \n",
    "                 if t >= 199:\n",
    "                   print(\"\\nSUCCESS\")\n",
    "                   agent.save_model('./catpole_player/cp.model')\n",
    "                   return\n",
    "                  \n",
    "                break\n",
    "            \n",
    "            \n",
    "            if len(agent.memory) > batch_size:\n",
    "                agent.replay(batch_size)\n",
    "        # agent.replay_with_all()\n"
   ]
  },
  {
   "cell_type": "code",
   "execution_count": null,
   "metadata": {
    "colab": {},
    "colab_type": "code",
    "id": "sCScAja7yV2B"
   },
   "outputs": [
    {
     "name": "stdout",
     "output_type": "stream",
     "text": [
      "Episode: 0   Score: 18   Epsilon: 1.0\n",
      "Episode: 1   Score: 25   Epsilon: 0.9416228069143757\n",
      "Episode: 2   Score: 41   Epsilon: 0.7666961448653229\n"
     ]
    }
   ],
   "source": [
    "if __name__ == '__main__':\n",
    "    main()"
   ]
  },
  {
   "cell_type": "code",
   "execution_count": 0,
   "metadata": {
    "colab": {},
    "colab_type": "code",
    "id": "o1xTpnmdyV2Q"
   },
   "outputs": [],
   "source": []
  }
 ],
 "metadata": {
  "colab": {
   "collapsed_sections": [],
   "name": "cartpole_automatik.ipynb",
   "provenance": [],
   "version": "0.3.2"
  },
  "kernelspec": {
   "display_name": "Python 3",
   "language": "python",
   "name": "python3"
  },
  "language_info": {
   "codemirror_mode": {
    "name": "ipython",
    "version": 3
   },
   "file_extension": ".py",
   "mimetype": "text/x-python",
   "name": "python",
   "nbconvert_exporter": "python",
   "pygments_lexer": "ipython3",
   "version": "3.6.5"
  }
 },
 "nbformat": 4,
 "nbformat_minor": 1
}
